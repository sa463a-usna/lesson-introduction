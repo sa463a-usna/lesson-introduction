{
 "cells": [
  {
   "cell_type": "markdown",
   "metadata": {},
   "source": [
    "**SA463A &#x25aa; Data Wrangling and Visualization &#x25aa; Fall 2021 &#x25aa; Uhan**"
   ]
  },
  {
   "cell_type": "markdown",
   "metadata": {},
   "source": [
    "# Lesson 0. Course Overview"
   ]
  },
  {
   "cell_type": "markdown",
   "metadata": {},
   "source": [
    "## In this lesson..."
   ]
  },
  {
   "cell_type": "markdown",
   "metadata": {},
   "source": [
    "- What is data visualization?\n",
    "\n",
    "\n",
    "- What is data wrangling?\n",
    "\n",
    "\n",
    "- Goals for this course"
   ]
  },
  {
   "cell_type": "markdown",
   "metadata": {},
   "source": [
    "<hr style=\"border-top: 2px solid gray; margin-top: 1px; margin-bottom: 1px\"></hr>"
   ]
  },
  {
   "cell_type": "markdown",
   "metadata": {},
   "source": [
    "## What is data visualization?"
   ]
  },
  {
   "cell_type": "markdown",
   "metadata": {},
   "source": [
    "- **Data visualization** is the graphical representation of information\n",
    "\n",
    "\n",
    "- You've been exposed to a variety of different visualizations throughout your life: charts, graphs, maps, etc.\n",
    "\n",
    "\n",
    "- Good data visualization is important: it can help us see trends and outliers and find insights in large datasets\n",
    "\n",
    "\n",
    "- In SM286D, you've used [Matplotlib](https://matplotlib.org/) to create basic data visualizations\n",
    "\n",
    "\n",
    "- In this course, we will use [**Altair**](https://altair-viz.github.io/), a modern Python visualization library, to create a wide variety of visualizations, including interactive ones\n",
    "\n",
    "\n",
    "- For example, you will learn how to create a visualization like this:"
   ]
  },
  {
   "cell_type": "code",
   "execution_count": null,
   "metadata": {},
   "outputs": [],
   "source": [
    "import altair as alt\n",
    "alt.renderers.enable('jupyterlab')\n",
    "\n",
    "data_url = 'data/covid_us_by_state.csv'\n",
    "\n",
    "daily_per_capita = alt.Chart().mark_bar(\n",
    "    color='pink'\n",
    ").encode(\n",
    "    alt.X('date:T'),\n",
    "    alt.Y('daily_cases_per_capita:Q'),\n",
    "    [alt.Tooltip('date:T', title='Date'),\n",
    "     alt.Tooltip('daily_cases:Q', title='New cases'),\n",
    "     alt.Tooltip('daily_cases_per_capita:Q', \n",
    "                 title='New cases per 100,000')]\n",
    ").properties(\n",
    "    width=100,\n",
    "    height=100\n",
    ")\n",
    "\n",
    "trend_per_capita = alt.Chart().transform_window(\n",
    "    groupby=['state'],\n",
    "    frame=[-7, 0],\n",
    "    rolling_avg='mean(daily_cases_per_capita)'\n",
    ").mark_line(\n",
    "    color='red',\n",
    "    size=1\n",
    ").encode(\n",
    "    alt.X('date:T'),\n",
    "    alt.Y('rolling_avg:Q')\n",
    ")\n",
    "\n",
    "(daily_per_capita + trend_per_capita).facet(\n",
    "    data=data_url,\n",
    "    facet=alt.Facet('state:N', header=alt.Header(title=None)),\n",
    "    columns=5\n",
    ").properties(\n",
    "    title='Daily new cases per 100,000'\n",
    ").configure_axis(\n",
    "    title=None\n",
    ").configure_view(\n",
    "    strokeWidth=0\n",
    ").configure_title(\n",
    "    fontSize=16,\n",
    "    anchor='middle',\n",
    "    offset=20\n",
    ")"
   ]
  },
  {
   "cell_type": "markdown",
   "metadata": {},
   "source": [
    "- Here's another example of a data visualization you'll learn to create:"
   ]
  },
  {
   "cell_type": "code",
   "execution_count": null,
   "metadata": {},
   "outputs": [],
   "source": [
    "import altair as alt\n",
    "import vega_datasets as vega\n",
    "alt.renderers.enable('jupyterlab')\n",
    "\n",
    "counties = alt.topo_feature(vega.data.us_10m.url, 'counties')\n",
    "data_url = 'data/covid_us_06jul2020.csv'\n",
    "\n",
    "alt.Chart(counties).transform_lookup(\n",
    "    lookup='id',\n",
    "    from_=alt.LookupData(\n",
    "        data_url, 'county_fips', \n",
    "        ['state', 'county', 'weekly_cases_per_capita']\n",
    "    )\n",
    ").mark_geoshape().encode(\n",
    "    alt.Color(\n",
    "        'weekly_cases_per_capita:Q',\n",
    "        title=None,\n",
    "        scale=alt.Scale(scheme='yelloworangered', type='sqrt')\n",
    "    ),\n",
    "    tooltip=[\n",
    "        alt.Tooltip('state:N', title='State'),\n",
    "        alt.Tooltip('county:N', title='County'),\n",
    "        alt.Tooltip('weekly_cases_per_capita:Q', \n",
    "                    title='New cases per 100,000 in the last week')\n",
    "    ]\n",
    ").project(\n",
    "    type='albersUsa'\n",
    ").properties(\n",
    "    width=600,\n",
    "    height=400,\n",
    "    title='New cases per 100,000 in the week of 6 July 2020'\n",
    ").configure_view(\n",
    "    strokeWidth=0\n",
    ").configure_title(\n",
    "    fontSize=16,\n",
    "    anchor='middle',\n",
    "    offset=20\n",
    ")"
   ]
  },
  {
   "cell_type": "markdown",
   "metadata": {},
   "source": [
    "<hr style=\"border-top: 2px solid gray; margin-top: 1px; margin-bottom: 1px\"></hr>"
   ]
  },
  {
   "cell_type": "markdown",
   "metadata": {},
   "source": [
    "## What is data wrangling?"
   ]
  },
  {
   "cell_type": "markdown",
   "metadata": {},
   "source": [
    "- **Data wrangling** (sometimes called **data munging**) is the act of transforming or manipulating data into the right form you need for analysis\n",
    "\n",
    "\n",
    "- This might involve filtering or rearranging data, creating new data based on the existing data, or merging different datasets together\n",
    "\n",
    "\n",
    "- For example, the map chart above (known as a [**chloropleth map**](https://en.wikipedia.org/wiki/Choropleth_map)) is based on the following dataset:"
   ]
  },
  {
   "cell_type": "code",
   "execution_count": null,
   "metadata": {},
   "outputs": [],
   "source": [
    "import pandas as pd\n",
    "\n",
    "df = pd.read_csv('data/covid_us_06jul2020.csv')\n",
    "df.head()"
   ]
  },
  {
   "cell_type": "markdown",
   "metadata": {},
   "source": [
    "- Unfortunately, there is no ready-made dataset out there that looks like this one!\n",
    "\n",
    "\n",
    "- The data for the above visualizations came from 4 different datasets, managed by different parties\n",
    "\n",
    "\n",
    "- The data was merged and transformed into the particular form that Altair could use"
   ]
  },
  {
   "cell_type": "markdown",
   "metadata": {},
   "source": [
    "- Data wrangling isn't glamorous, but it is very necessary!\n",
    "    - Real datasets, unlike the datasets you often encounter in class, are messy\n",
    "    - It's pretty common to spend more time on data wrangling than data analysis!\n",
    "\n",
    "\n",
    "- We'll learn how to wrangle datasets with [**Pandas**](https://pandas.pydata.org/), a Python library for data manipulation and analysis"
   ]
  },
  {
   "cell_type": "markdown",
   "metadata": {},
   "source": [
    "<hr style=\"border-top: 2px solid gray; margin-top: 1px; margin-bottom: 1px\"></hr>"
   ]
  },
  {
   "cell_type": "markdown",
   "metadata": {},
   "source": [
    "## Goals for this course"
   ]
  },
  {
   "cell_type": "markdown",
   "metadata": {},
   "source": [
    "- Learn to create sophisticated visualizations of large datasets that provide useful insights for decision-making as well as further modeling and analysis\n",
    "\n",
    "\n",
    "- Learn to wrangle large, messy datasets into forms suitable for modeling and analysis in operations research and statistics\n",
    "\n",
    "\n",
    "- Work on projects involving real-world data sources\n",
    "\n",
    "\n",
    "- Acquire skills that will help you work with real-world data sources for your capstone projects\n",
    "\n",
    "\n",
    "- Improve your fluency with Python"
   ]
  }
 ],
 "metadata": {
  "kernelspec": {
   "display_name": "Python 3",
   "language": "python",
   "name": "python3"
  },
  "language_info": {
   "codemirror_mode": {
    "name": "ipython",
    "version": 3
   },
   "file_extension": ".py",
   "mimetype": "text/x-python",
   "name": "python",
   "nbconvert_exporter": "python",
   "pygments_lexer": "ipython3",
   "version": "3.8.10"
  }
 },
 "nbformat": 4,
 "nbformat_minor": 4
}
