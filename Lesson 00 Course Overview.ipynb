{
 "cells": [
  {
   "cell_type": "markdown",
   "metadata": {},
   "source": [
    "**SA463A &#x25aa; Data Wrangling and Visualization &#x25aa; Fall 2021 &#x25aa; Uhan**"
   ]
  },
  {
   "cell_type": "markdown",
   "metadata": {},
   "source": [
    "# Lesson 0. Course Overview"
   ]
  },
  {
   "cell_type": "markdown",
   "metadata": {},
   "source": [
    "## In this lesson..."
   ]
  },
  {
   "cell_type": "markdown",
   "metadata": {},
   "source": [
    "- What is data visualization?\n",
    "\n",
    "\n",
    "- What is data wrangling?\n",
    "\n",
    "\n",
    "- Goals for this course"
   ]
  },
  {
   "cell_type": "markdown",
   "metadata": {},
   "source": [
    "<hr style=\"border-top: 2px solid gray; margin-top: 1px; margin-bottom: 1px\"></hr>"
   ]
  },
  {
   "cell_type": "markdown",
   "metadata": {},
   "source": [
    "## What is data visualization?"
   ]
  },
  {
   "cell_type": "markdown",
   "metadata": {},
   "source": [
    "- **Data visualization** is the graphical representation of information\n",
    "\n",
    "\n",
    "- You've been exposed to a variety of different visualizations throughout your life: charts, graphs, maps, etc.\n",
    "\n",
    "\n",
    "- Good data visualization is important: it can help us see trends and outliers and find insights in large data sets\n",
    "\n",
    "\n",
    "- In SM286D, you have used [Matplotlib](https://matplotlib.org/) to create basic data visualizations\n",
    "\n",
    "\n",
    "- In this course, we will use [**Altair**](https://altair-viz.github.io/), a modern Python visualization library that has a consistent grammar to create a wide variety of visualizations, including interactive ones\n",
    "\n",
    "\n",
    "- For example, you will learn how to create a visualization like this:"
   ]
  },
  {
   "cell_type": "code",
   "execution_count": 1,
   "metadata": {},
   "outputs": [
    {
     "data": {
      "text/html": [
       "\n",
       "<div id=\"altair-viz-55ba9c5d51354b31b5df89916902e461\"></div>\n",
       "<script type=\"text/javascript\">\n",
       "  (function(spec, embedOpt){\n",
       "    let outputDiv = document.currentScript.previousElementSibling;\n",
       "    if (outputDiv.id !== \"altair-viz-55ba9c5d51354b31b5df89916902e461\") {\n",
       "      outputDiv = document.getElementById(\"altair-viz-55ba9c5d51354b31b5df89916902e461\");\n",
       "    }\n",
       "    const paths = {\n",
       "      \"vega\": \"https://cdn.jsdelivr.net/npm//vega@5?noext\",\n",
       "      \"vega-lib\": \"https://cdn.jsdelivr.net/npm//vega-lib?noext\",\n",
       "      \"vega-lite\": \"https://cdn.jsdelivr.net/npm//vega-lite@4.8.1?noext\",\n",
       "      \"vega-embed\": \"https://cdn.jsdelivr.net/npm//vega-embed@6?noext\",\n",
       "    };\n",
       "\n",
       "    function loadScript(lib) {\n",
       "      return new Promise(function(resolve, reject) {\n",
       "        var s = document.createElement('script');\n",
       "        s.src = paths[lib];\n",
       "        s.async = true;\n",
       "        s.onload = () => resolve(paths[lib]);\n",
       "        s.onerror = () => reject(`Error loading script: ${paths[lib]}`);\n",
       "        document.getElementsByTagName(\"head\")[0].appendChild(s);\n",
       "      });\n",
       "    }\n",
       "\n",
       "    function showError(err) {\n",
       "      outputDiv.innerHTML = `<div class=\"error\" style=\"color:red;\">${err}</div>`;\n",
       "      throw err;\n",
       "    }\n",
       "\n",
       "    function displayChart(vegaEmbed) {\n",
       "      vegaEmbed(outputDiv, spec, embedOpt)\n",
       "        .catch(err => showError(`Javascript Error: ${err.message}<br>This usually means there's a typo in your chart specification. See the javascript console for the full traceback.`));\n",
       "    }\n",
       "\n",
       "    if(typeof define === \"function\" && define.amd) {\n",
       "      requirejs.config({paths});\n",
       "      require([\"vega-embed\"], displayChart, err => showError(`Error loading script: ${err.message}`));\n",
       "    } else if (typeof vegaEmbed === \"function\") {\n",
       "      displayChart(vegaEmbed);\n",
       "    } else {\n",
       "      loadScript(\"vega\")\n",
       "        .then(() => loadScript(\"vega-lite\"))\n",
       "        .then(() => loadScript(\"vega-embed\"))\n",
       "        .catch(showError)\n",
       "        .then(() => displayChart(vegaEmbed));\n",
       "    }\n",
       "  })({\"config\": {\"view\": {\"continuousWidth\": 400, \"continuousHeight\": 300, \"strokeWidth\": 0}, \"axis\": {\"title\": null}, \"title\": {\"anchor\": \"middle\", \"fontSize\": 16, \"offset\": 20}}, \"data\": {\"url\": \"data/covid_us_by_state.csv\"}, \"facet\": {\"type\": \"nominal\", \"field\": \"state\", \"header\": {\"title\": null}}, \"spec\": {\"layer\": [{\"mark\": {\"type\": \"bar\", \"color\": \"pink\"}, \"encoding\": {\"tooltip\": [{\"type\": \"temporal\", \"field\": \"date\", \"title\": \"Date\"}, {\"type\": \"quantitative\", \"field\": \"daily_cases\", \"title\": \"New cases\"}, {\"type\": \"quantitative\", \"field\": \"daily_cases_per_capita\", \"title\": \"New cases per 100,000\"}], \"x\": {\"type\": \"temporal\", \"field\": \"date\"}, \"y\": {\"type\": \"quantitative\", \"field\": \"daily_cases_per_capita\"}}, \"height\": 100, \"width\": 100}, {\"mark\": {\"type\": \"line\", \"color\": \"red\", \"size\": 1}, \"encoding\": {\"x\": {\"type\": \"temporal\", \"field\": \"date\"}, \"y\": {\"type\": \"quantitative\", \"field\": \"rolling_avg\"}}, \"transform\": [{\"window\": [{\"op\": \"mean\", \"field\": \"daily_cases_per_capita\", \"as\": \"rolling_avg\"}], \"frame\": [-7, 0], \"groupby\": [\"state\"]}]}]}, \"columns\": 5, \"title\": \"Daily new cases per 100,000\", \"$schema\": \"https://vega.github.io/schema/vega-lite/v4.8.1.json\"}, {\"mode\": \"vega-lite\"});\n",
       "</script>"
      ],
      "text/plain": [
       "alt.FacetChart(...)"
      ]
     },
     "execution_count": 1,
     "metadata": {},
     "output_type": "execute_result"
    }
   ],
   "source": [
    "import altair as alt\n",
    "\n",
    "data_url = 'data/covid_us_by_state.csv'\n",
    "\n",
    "daily_per_capita = alt.Chart(data_url).mark_bar(\n",
    "    color='pink'\n",
    ").encode(\n",
    "    alt.X('date:T'),\n",
    "    alt.Y('daily_cases_per_capita:Q'),\n",
    "    [alt.Tooltip('date:T', title='Date'),\n",
    "     alt.Tooltip('daily_cases:Q', title='New cases'),\n",
    "     alt.Tooltip('daily_cases_per_capita:Q', \n",
    "                 title='New cases per 100,000')]\n",
    ").properties(\n",
    "    width=100,\n",
    "    height=100\n",
    ")\n",
    "\n",
    "trend_per_capita = alt.Chart(data_url).mark_line(\n",
    "    color='red',\n",
    "    size=1\n",
    ").transform_window(\n",
    "    groupby=['state'],\n",
    "    frame=[-7, 0],\n",
    "    rolling_avg='mean(daily_cases_per_capita)'\n",
    ").encode(\n",
    "    alt.X('date:T'),\n",
    "    alt.Y('rolling_avg:Q')\n",
    ")\n",
    "\n",
    "(daily_per_capita + trend_per_capita).facet(\n",
    "    alt.Facet('state:N', header=alt.Header(title=None)),\n",
    "    columns=5\n",
    ").properties(\n",
    "    title='Daily new cases per 100,000'\n",
    ").configure_axis(\n",
    "    title=None\n",
    ").configure_view(\n",
    "    strokeWidth=0\n",
    ").configure_title(\n",
    "    fontSize=16,\n",
    "    anchor='middle',\n",
    "    offset=20\n",
    ")"
   ]
  },
  {
   "cell_type": "markdown",
   "metadata": {},
   "source": [
    "- Here's another example of a data visualization you'll learn to create:"
   ]
  },
  {
   "cell_type": "code",
   "execution_count": 2,
   "metadata": {},
   "outputs": [
    {
     "data": {
      "text/html": [
       "\n",
       "<div id=\"altair-viz-77fc689cbc7c445ebe09896fbc778a2b\"></div>\n",
       "<script type=\"text/javascript\">\n",
       "  (function(spec, embedOpt){\n",
       "    let outputDiv = document.currentScript.previousElementSibling;\n",
       "    if (outputDiv.id !== \"altair-viz-77fc689cbc7c445ebe09896fbc778a2b\") {\n",
       "      outputDiv = document.getElementById(\"altair-viz-77fc689cbc7c445ebe09896fbc778a2b\");\n",
       "    }\n",
       "    const paths = {\n",
       "      \"vega\": \"https://cdn.jsdelivr.net/npm//vega@5?noext\",\n",
       "      \"vega-lib\": \"https://cdn.jsdelivr.net/npm//vega-lib?noext\",\n",
       "      \"vega-lite\": \"https://cdn.jsdelivr.net/npm//vega-lite@4.8.1?noext\",\n",
       "      \"vega-embed\": \"https://cdn.jsdelivr.net/npm//vega-embed@6?noext\",\n",
       "    };\n",
       "\n",
       "    function loadScript(lib) {\n",
       "      return new Promise(function(resolve, reject) {\n",
       "        var s = document.createElement('script');\n",
       "        s.src = paths[lib];\n",
       "        s.async = true;\n",
       "        s.onload = () => resolve(paths[lib]);\n",
       "        s.onerror = () => reject(`Error loading script: ${paths[lib]}`);\n",
       "        document.getElementsByTagName(\"head\")[0].appendChild(s);\n",
       "      });\n",
       "    }\n",
       "\n",
       "    function showError(err) {\n",
       "      outputDiv.innerHTML = `<div class=\"error\" style=\"color:red;\">${err}</div>`;\n",
       "      throw err;\n",
       "    }\n",
       "\n",
       "    function displayChart(vegaEmbed) {\n",
       "      vegaEmbed(outputDiv, spec, embedOpt)\n",
       "        .catch(err => showError(`Javascript Error: ${err.message}<br>This usually means there's a typo in your chart specification. See the javascript console for the full traceback.`));\n",
       "    }\n",
       "\n",
       "    if(typeof define === \"function\" && define.amd) {\n",
       "      requirejs.config({paths});\n",
       "      require([\"vega-embed\"], displayChart, err => showError(`Error loading script: ${err.message}`));\n",
       "    } else if (typeof vegaEmbed === \"function\") {\n",
       "      displayChart(vegaEmbed);\n",
       "    } else {\n",
       "      loadScript(\"vega\")\n",
       "        .then(() => loadScript(\"vega-lite\"))\n",
       "        .then(() => loadScript(\"vega-embed\"))\n",
       "        .catch(showError)\n",
       "        .then(() => displayChart(vegaEmbed));\n",
       "    }\n",
       "  })({\"config\": {\"view\": {\"continuousWidth\": 400, \"continuousHeight\": 300, \"strokeWidth\": 0}, \"title\": {\"anchor\": \"middle\", \"fontSize\": 16, \"offset\": 20}}, \"data\": {\"url\": \"https://vega.github.io/vega-datasets/data/us-10m.json\", \"format\": {\"feature\": \"counties\", \"type\": \"topojson\"}}, \"mark\": \"geoshape\", \"encoding\": {\"color\": {\"type\": \"quantitative\", \"field\": \"weekly_cases_per_capita\", \"scale\": {\"scheme\": \"yelloworangered\", \"type\": \"sqrt\"}, \"title\": null}, \"tooltip\": [{\"type\": \"nominal\", \"field\": \"state\", \"title\": \"State\"}, {\"type\": \"nominal\", \"field\": \"county\", \"title\": \"County\"}, {\"type\": \"quantitative\", \"field\": \"weekly_cases_per_capita\", \"title\": \"New cases per 100,000 in the last week\"}]}, \"height\": 400, \"projection\": {\"type\": \"albersUsa\"}, \"title\": \"New cases per 100,000 in the week of 6 July 2020\", \"transform\": [{\"lookup\": \"id\", \"from\": {\"data\": {\"url\": \"data/covid_us_06jul2020.csv\"}, \"key\": \"county_fips\", \"fields\": [\"state\", \"county\", \"weekly_cases_per_capita\"]}}], \"width\": 600, \"$schema\": \"https://vega.github.io/schema/vega-lite/v4.8.1.json\"}, {\"mode\": \"vega-lite\"});\n",
       "</script>"
      ],
      "text/plain": [
       "alt.Chart(...)"
      ]
     },
     "execution_count": 2,
     "metadata": {},
     "output_type": "execute_result"
    }
   ],
   "source": [
    "import altair as alt\n",
    "import vega_datasets as vega\n",
    "\n",
    "counties = alt.topo_feature(vega.data.us_10m.url, 'counties')\n",
    "data_url = 'data/covid_us_06jul2020.csv'\n",
    "\n",
    "alt.Chart(counties).mark_geoshape().encode(\n",
    "    alt.Color('weekly_cases_per_capita:Q',\n",
    "              title=None,\n",
    "              scale=alt.Scale(scheme='yelloworangered', type='sqrt')),\n",
    "    tooltip=[\n",
    "        alt.Tooltip('state:N', title='State'),\n",
    "        alt.Tooltip('county:N', title='County'),\n",
    "        alt.Tooltip('weekly_cases_per_capita:Q', \n",
    "                    title='New cases per 100,000 in the last week')\n",
    "    ]\n",
    ").transform_lookup(\n",
    "    lookup='id',\n",
    "    from_=alt.LookupData(data_url, 'county_fips', \n",
    "                         ['state', 'county', 'weekly_cases_per_capita'])\n",
    ").project(\n",
    "    type='albersUsa'\n",
    ").properties(\n",
    "    width=600,\n",
    "    height=400,\n",
    "    title='New cases per 100,000 in the week of 6 July 2020'\n",
    ").configure_view(\n",
    "    strokeWidth=0\n",
    ").configure_title(\n",
    "    fontSize=16,\n",
    "    anchor='middle',\n",
    "    offset=20\n",
    ")"
   ]
  },
  {
   "cell_type": "markdown",
   "metadata": {},
   "source": [
    "<hr style=\"border-top: 2px solid gray; margin-top: 1px; margin-bottom: 1px\"></hr>"
   ]
  },
  {
   "cell_type": "markdown",
   "metadata": {},
   "source": [
    "## What is data wrangling?"
   ]
  },
  {
   "cell_type": "markdown",
   "metadata": {},
   "source": [
    "- **Data wrangling** (sometimes called **data munging**) is the act of transforming or manipulating data into the right form you need for analysis\n",
    "\n",
    "\n",
    "- This might involve filtering or rearranging data, creating new data based on the existing data, or merging different data sets together\n",
    "\n",
    "\n",
    "- For example, the map chart above (known as a [**chloropleth map**](https://en.wikipedia.org/wiki/Choropleth_map)) is based on the following data set:"
   ]
  },
  {
   "cell_type": "code",
   "execution_count": 3,
   "metadata": {},
   "outputs": [
    {
     "data": {
      "text/html": [
       "<div>\n",
       "<style scoped>\n",
       "    .dataframe tbody tr th:only-of-type {\n",
       "        vertical-align: middle;\n",
       "    }\n",
       "\n",
       "    .dataframe tbody tr th {\n",
       "        vertical-align: top;\n",
       "    }\n",
       "\n",
       "    .dataframe thead th {\n",
       "        text-align: right;\n",
       "    }\n",
       "</style>\n",
       "<table border=\"1\" class=\"dataframe\">\n",
       "  <thead>\n",
       "    <tr style=\"text-align: right;\">\n",
       "      <th></th>\n",
       "      <th>county_fips</th>\n",
       "      <th>date</th>\n",
       "      <th>total_cases</th>\n",
       "      <th>total_deaths</th>\n",
       "      <th>latitude</th>\n",
       "      <th>longitude</th>\n",
       "      <th>state</th>\n",
       "      <th>county</th>\n",
       "      <th>population</th>\n",
       "      <th>weekly_cases</th>\n",
       "      <th>weekly_cases_per_capita</th>\n",
       "      <th>total_cases_per_capita</th>\n",
       "    </tr>\n",
       "  </thead>\n",
       "  <tbody>\n",
       "    <tr>\n",
       "      <th>0</th>\n",
       "      <td>1001</td>\n",
       "      <td>2020-07-06</td>\n",
       "      <td>618.0</td>\n",
       "      <td>13.0</td>\n",
       "      <td>32.53</td>\n",
       "      <td>-86.65</td>\n",
       "      <td>Alabama</td>\n",
       "      <td>Autauga County</td>\n",
       "      <td>55869.0</td>\n",
       "      <td>91.0</td>\n",
       "      <td>162.88</td>\n",
       "      <td>1106.16</td>\n",
       "    </tr>\n",
       "    <tr>\n",
       "      <th>1</th>\n",
       "      <td>1003</td>\n",
       "      <td>2020-07-06</td>\n",
       "      <td>911.0</td>\n",
       "      <td>10.0</td>\n",
       "      <td>30.66</td>\n",
       "      <td>-87.75</td>\n",
       "      <td>Alabama</td>\n",
       "      <td>Baldwin County</td>\n",
       "      <td>223234.0</td>\n",
       "      <td>268.0</td>\n",
       "      <td>120.05</td>\n",
       "      <td>408.09</td>\n",
       "    </tr>\n",
       "    <tr>\n",
       "      <th>2</th>\n",
       "      <td>1005</td>\n",
       "      <td>2020-07-06</td>\n",
       "      <td>356.0</td>\n",
       "      <td>2.0</td>\n",
       "      <td>31.87</td>\n",
       "      <td>-85.41</td>\n",
       "      <td>Alabama</td>\n",
       "      <td>Barbour County</td>\n",
       "      <td>24686.0</td>\n",
       "      <td>34.0</td>\n",
       "      <td>137.73</td>\n",
       "      <td>1442.11</td>\n",
       "    </tr>\n",
       "    <tr>\n",
       "      <th>3</th>\n",
       "      <td>1007</td>\n",
       "      <td>2020-07-06</td>\n",
       "      <td>197.0</td>\n",
       "      <td>1.0</td>\n",
       "      <td>33.02</td>\n",
       "      <td>-87.13</td>\n",
       "      <td>Alabama</td>\n",
       "      <td>Bibb County</td>\n",
       "      <td>22394.0</td>\n",
       "      <td>32.0</td>\n",
       "      <td>142.90</td>\n",
       "      <td>879.70</td>\n",
       "    </tr>\n",
       "    <tr>\n",
       "      <th>4</th>\n",
       "      <td>1009</td>\n",
       "      <td>2020-07-06</td>\n",
       "      <td>247.0</td>\n",
       "      <td>1.0</td>\n",
       "      <td>33.98</td>\n",
       "      <td>-86.57</td>\n",
       "      <td>Alabama</td>\n",
       "      <td>Blount County</td>\n",
       "      <td>57826.0</td>\n",
       "      <td>48.0</td>\n",
       "      <td>83.01</td>\n",
       "      <td>427.14</td>\n",
       "    </tr>\n",
       "  </tbody>\n",
       "</table>\n",
       "</div>"
      ],
      "text/plain": [
       "   county_fips        date  total_cases  total_deaths  latitude  longitude  \\\n",
       "0         1001  2020-07-06        618.0          13.0     32.53     -86.65   \n",
       "1         1003  2020-07-06        911.0          10.0     30.66     -87.75   \n",
       "2         1005  2020-07-06        356.0           2.0     31.87     -85.41   \n",
       "3         1007  2020-07-06        197.0           1.0     33.02     -87.13   \n",
       "4         1009  2020-07-06        247.0           1.0     33.98     -86.57   \n",
       "\n",
       "     state          county  population  weekly_cases  weekly_cases_per_capita  \\\n",
       "0  Alabama  Autauga County     55869.0          91.0                   162.88   \n",
       "1  Alabama  Baldwin County    223234.0         268.0                   120.05   \n",
       "2  Alabama  Barbour County     24686.0          34.0                   137.73   \n",
       "3  Alabama     Bibb County     22394.0          32.0                   142.90   \n",
       "4  Alabama   Blount County     57826.0          48.0                    83.01   \n",
       "\n",
       "   total_cases_per_capita  \n",
       "0                 1106.16  \n",
       "1                  408.09  \n",
       "2                 1442.11  \n",
       "3                  879.70  \n",
       "4                  427.14  "
      ]
     },
     "execution_count": 3,
     "metadata": {},
     "output_type": "execute_result"
    }
   ],
   "source": [
    "import pandas as pd\n",
    "\n",
    "df = pd.read_csv('data/covid_us_06jul2020.csv')\n",
    "df.head()"
   ]
  },
  {
   "cell_type": "markdown",
   "metadata": {},
   "source": [
    "- Unfortunately, there is no ready-made data set out there that looks like this one!\n",
    "\n",
    "\n",
    "- The data for the above visualizations came from 4 different data sets, managed by different parties\n",
    "\n",
    "\n",
    "- The data was merged and transformed into the particular form that Altair required"
   ]
  },
  {
   "cell_type": "markdown",
   "metadata": {},
   "source": [
    "- Data wrangling isn't glamorous, but it is very necessary!\n",
    "    - Real data sets, unlike the data sets you often encounter in class, are messy\n",
    "    - It's pretty common to spend more time on wrangling data than data analysis!\n",
    "\n",
    "\n",
    "- We'll learn how to wrangle data sets with [**Pandas**](https://pandas.pydata.org/), a Python library for data manipulation and analysis"
   ]
  },
  {
   "cell_type": "markdown",
   "metadata": {},
   "source": [
    "<hr style=\"border-top: 2px solid gray; margin-top: 1px; margin-bottom: 1px\"></hr>"
   ]
  },
  {
   "cell_type": "markdown",
   "metadata": {},
   "source": [
    "## Goals for this course"
   ]
  },
  {
   "cell_type": "markdown",
   "metadata": {},
   "source": [
    "- Learn to create sophisticated visualizations of large data sets that provide useful insights for decision-making as well as further modeling and analysis\n",
    "\n",
    "\n",
    "- Learn to wrangle large, messy data sets into forms suitable for operations research and  statistical modeling and analysis\n",
    "\n",
    "\n",
    "- Work on projects involving real-world data sources\n",
    "\n",
    "\n",
    "- Acquire skills that will help you work with real-world data sources for your capstone projects\n",
    "\n",
    "\n",
    "- Improve your fluency with Python"
   ]
  }
 ],
 "metadata": {
  "kernelspec": {
   "display_name": "Python 3",
   "language": "python",
   "name": "python3"
  },
  "language_info": {
   "codemirror_mode": {
    "name": "ipython",
    "version": 3
   },
   "file_extension": ".py",
   "mimetype": "text/x-python",
   "name": "python",
   "nbconvert_exporter": "python",
   "pygments_lexer": "ipython3",
   "version": "3.7.6"
  }
 },
 "nbformat": 4,
 "nbformat_minor": 4
}
